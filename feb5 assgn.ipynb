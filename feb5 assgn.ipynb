{
 "cells": [
  {
   "cell_type": "markdown",
   "id": "95ff208b",
   "metadata": {},
   "source": [
    "1ans:"
   ]
  },
  {
   "cell_type": "markdown",
   "id": "992806db",
   "metadata": {},
   "source": [
    "A Class in object oriented programming is a blueprint or prototype that defines the variables and the methods (function).\n",
    "A class defines a set of properties or attributes that the objects of that class will possess.\n",
    "\n",
    "An object in OOPS is a specimen of a class. Instance of class is object."
   ]
  },
  {
   "cell_type": "code",
   "execution_count": 1,
   "id": "b3a70651",
   "metadata": {},
   "outputs": [],
   "source": [
    "class temp:\n",
    "    def __init__(self,name):\n",
    "        self.name=name\n",
    "    def sayHello(self):\n",
    "        print(\"hello\",self.name)\n"
   ]
  },
  {
   "cell_type": "code",
   "execution_count": 2,
   "id": "6ac6810b",
   "metadata": {},
   "outputs": [
    {
     "name": "stdout",
     "output_type": "stream",
     "text": [
      "hello name1\n"
     ]
    }
   ],
   "source": [
    "a=temp('name1')\n",
    "a.sayHello()"
   ]
  },
  {
   "cell_type": "markdown",
   "id": "785ffa12",
   "metadata": {},
   "source": [
    "2ans:"
   ]
  },
  {
   "cell_type": "markdown",
   "id": "4b25e4bb",
   "metadata": {},
   "source": [
    "Inheritance.\n",
    "Polymorphism.\n",
    "Encapsulation.\n",
    "Abstraction\n"
   ]
  },
  {
   "cell_type": "code",
   "execution_count": null,
   "id": "51dd9427",
   "metadata": {},
   "outputs": [],
   "source": [
    "3ans:"
   ]
  },
  {
   "cell_type": "code",
   "execution_count": null,
   "id": "fd277feb",
   "metadata": {},
   "outputs": [],
   "source": [
    "__init__ is a constructor of the class"
   ]
  },
  {
   "cell_type": "code",
   "execution_count": 4,
   "id": "66370ff4",
   "metadata": {},
   "outputs": [],
   "source": [
    "class temp1:\n",
    "    def __init__(self,name,DOB,phoneNum):\n",
    "        self.name=name\n",
    "        self.DOB=DOB\n",
    "        self.phoneNum=phoneNum\n",
    "    def returnDet(self):\n",
    "        return self.name,self.DOB,self.phoneNum"
   ]
  },
  {
   "cell_type": "code",
   "execution_count": 5,
   "id": "6acbfbc5",
   "metadata": {},
   "outputs": [],
   "source": [
    "a=temp1('a',23,12345)"
   ]
  },
  {
   "cell_type": "code",
   "execution_count": 6,
   "id": "1d421635",
   "metadata": {},
   "outputs": [
    {
     "data": {
      "text/plain": [
       "('a', 23, 12345)"
      ]
     },
     "execution_count": 6,
     "metadata": {},
     "output_type": "execute_result"
    }
   ],
   "source": [
    "a.returnDet()"
   ]
  },
  {
   "cell_type": "markdown",
   "id": "61141096",
   "metadata": {},
   "source": [
    "4ans:"
   ]
  },
  {
   "cell_type": "markdown",
   "id": "0f98d780",
   "metadata": {},
   "source": [
    "self is reference variable to current object.\n",
    "It is not mandatory to use self we can use any name we want"
   ]
  },
  {
   "cell_type": "code",
   "execution_count": null,
   "id": "373702d5",
   "metadata": {},
   "outputs": [],
   "source": [
    "5ans:"
   ]
  },
  {
   "cell_type": "markdown",
   "id": "b629533a",
   "metadata": {},
   "source": [
    " Inheritance allows us to define a class that inherits all the methods and properties from another class.\n",
    "\n",
    " Parent class is the class being inherited from, also called base class.\n",
    "\n",
    "Child class is the class that inherits from another class, also called derived class.\n"
   ]
  },
  {
   "cell_type": "code",
   "execution_count": 7,
   "id": "46a51496",
   "metadata": {},
   "outputs": [],
   "source": [
    "class parent:\n",
    "    def __init__(self,name,PhoneNo):\n",
    "        self.name=name\n",
    "        self.PhoneNo=PhoneNo\n",
    "    def sayHello(self):\n",
    "        print(\"hello\",self.name)"
   ]
  },
  {
   "cell_type": "code",
   "execution_count": 8,
   "id": "7f2d1370",
   "metadata": {},
   "outputs": [],
   "source": [
    "a=parent('a',1234)"
   ]
  },
  {
   "cell_type": "code",
   "execution_count": 9,
   "id": "795b4dd9",
   "metadata": {},
   "outputs": [
    {
     "name": "stdout",
     "output_type": "stream",
     "text": [
      "hello a\n"
     ]
    }
   ],
   "source": [
    "a.sayHello()"
   ]
  },
  {
   "cell_type": "code",
   "execution_count": 10,
   "id": "2ebe4bf5",
   "metadata": {},
   "outputs": [],
   "source": [
    "class child(parent):\n",
    "    pass"
   ]
  },
  {
   "cell_type": "code",
   "execution_count": 11,
   "id": "1bc2b939",
   "metadata": {},
   "outputs": [
    {
     "name": "stdout",
     "output_type": "stream",
     "text": [
      "hello b\n"
     ]
    }
   ],
   "source": [
    "b=child('b',12453)\n",
    "b.sayHello()"
   ]
  },
  {
   "cell_type": "code",
   "execution_count": null,
   "id": "fd8bda33",
   "metadata": {},
   "outputs": [],
   "source": []
  }
 ],
 "metadata": {
  "kernelspec": {
   "display_name": "Python 3 (ipykernel)",
   "language": "python",
   "name": "python3"
  },
  "language_info": {
   "codemirror_mode": {
    "name": "ipython",
    "version": 3
   },
   "file_extension": ".py",
   "mimetype": "text/x-python",
   "name": "python",
   "nbconvert_exporter": "python",
   "pygments_lexer": "ipython3",
   "version": "3.9.13"
  }
 },
 "nbformat": 4,
 "nbformat_minor": 5
}
